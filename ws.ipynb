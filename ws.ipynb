{
 "cells": [
  {
   "cell_type": "code",
   "execution_count": 1,
   "metadata": {},
   "outputs": [],
   "source": [
    "import numpy as np\n",
    "import pandas as pd\n",
    "from src.data_preprocessing.dataframe_manipulation import (\n",
    "    load_data, handle_nan_values, rename_columns,\n",
    "    )\n",
    "\n",
    "from src.data_preprocessing.dataframe_preprocessing import (\n",
    "    encoding_the_columns, split_data, scale_data, \n",
    "    )\n",
    "\n",
    "from src.models.preprocessing import (\n",
    "    logistic_regression, best_logistic_regression,\n",
    "    )"
   ]
  },
  {
   "cell_type": "markdown",
   "metadata": {},
   "source": [
    "Load the data and preprecess it"
   ]
  },
  {
   "cell_type": "code",
   "execution_count": 2,
   "metadata": {},
   "outputs": [
    {
     "name": "stderr",
     "output_type": "stream",
     "text": [
      "c:\\Users\\Mykelos\\OneDrive\\Desktop\\Projects\\CreditCardApproval\\src\\data_preprocessing\\dataframe_manipulation.py:35: FutureWarning: Dropping of nuisance columns in DataFrame reductions (with 'numeric_only=None') is deprecated; in a future version this will raise TypeError.  Select only valid columns before calling the reduction.\n",
      "  dataframe.fillna(dataframe.mean(), inplace=True)\n"
     ]
    }
   ],
   "source": [
    "data = handle_nan_values(rename_columns(load_data()))"
   ]
  },
  {
   "cell_type": "markdown",
   "metadata": {},
   "source": [
    "Encode the data"
   ]
  },
  {
   "cell_type": "code",
   "execution_count": 3,
   "metadata": {},
   "outputs": [],
   "source": [
    "data = encoding_the_columns(data)"
   ]
  },
  {
   "cell_type": "code",
   "execution_count": 4,
   "metadata": {},
   "outputs": [],
   "source": [
    "(\n",
    "X_train,\n",
    "X_test,\n",
    "y_train,\n",
    "y_test\n",
    ")=split_data(data)"
   ]
  },
  {
   "cell_type": "code",
   "execution_count": 5,
   "metadata": {},
   "outputs": [],
   "source": [
    "(\n",
    "rescaledX_train, \n",
    "rescaledX_test\n",
    ")=scale_data(X_train, X_test)\n",
    "\n"
   ]
  },
  {
   "cell_type": "code",
   "execution_count": 6,
   "metadata": {},
   "outputs": [
    {
     "name": "stdout",
     "output_type": "stream",
     "text": [
      "Accuracy of logistic regression classifier:  0.8744588744588745\n",
      "[[185  19]\n",
      " [ 39 219]]\n"
     ]
    }
   ],
   "source": [
    "(\n",
    "logreg_score, \n",
    "conf_matrix\n",
    ")=logistic_regression(rescaledX_train, y_train)"
   ]
  },
  {
   "cell_type": "code",
   "execution_count": 16,
   "metadata": {},
   "outputs": [
    {
     "ename": "ModuleNotFoundError",
     "evalue": "No module named 'models'",
     "output_type": "error",
     "traceback": [
      "\u001b[1;31m---------------------------------------------------------------------------\u001b[0m",
      "\u001b[1;31mModuleNotFoundError\u001b[0m                       Traceback (most recent call last)",
      "\u001b[1;32mc:\\Users\\Mykelos\\OneDrive\\Desktop\\Projects\\CreditCardApproval\\ws.ipynb Cell 9\u001b[0m in \u001b[0;36m<cell line: 1>\u001b[1;34m()\u001b[0m\n\u001b[1;32m----> <a href='vscode-notebook-cell:/c%3A/Users/Mykelos/OneDrive/Desktop/Projects/CreditCardApproval/ws.ipynb#X51sZmlsZQ%3D%3D?line=0'>1</a>\u001b[0m \u001b[39mfrom\u001b[39;00m \u001b[39mmodels\u001b[39;00m\u001b[39m.\u001b[39;00m\u001b[39mpreprocessing\u001b[39;00m \u001b[39mimport\u001b[39;00m best_logistic_regression\n\u001b[0;32m      <a href='vscode-notebook-cell:/c%3A/Users/Mykelos/OneDrive/Desktop/Projects/CreditCardApproval/ws.ipynb#X51sZmlsZQ%3D%3D?line=3'>4</a>\u001b[0m (best_score, best_params)\u001b[39m=\u001b[39mbest_logistic_regression(X,y)\n",
      "\u001b[1;31mModuleNotFoundError\u001b[0m: No module named 'models'"
     ]
    }
   ],
   "source": [
    "\n",
    "from models.preprocessing import \n",
    "\n",
    "\n",
    "(best_score, best_params)=best_logistic_regression(X,y)\n"
   ]
  },
  {
   "cell_type": "code",
   "execution_count": null,
   "metadata": {},
   "outputs": [],
   "source": []
  }
 ],
 "metadata": {
  "kernelspec": {
   "display_name": "Python 3.10.6 64-bit (windows store)",
   "language": "python",
   "name": "python3"
  },
  "language_info": {
   "codemirror_mode": {
    "name": "ipython",
    "version": 3
   },
   "file_extension": ".py",
   "mimetype": "text/x-python",
   "name": "python",
   "nbconvert_exporter": "python",
   "pygments_lexer": "ipython3",
   "version": "3.10.6"
  },
  "orig_nbformat": 4,
  "vscode": {
   "interpreter": {
    "hash": "b359650d341a415086faa822ce7626ce09fbb075daa135bd072cf209e05548d3"
   }
  }
 },
 "nbformat": 4,
 "nbformat_minor": 2
}
