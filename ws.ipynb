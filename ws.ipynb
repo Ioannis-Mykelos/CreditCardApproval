{
 "cells": [
  {
   "cell_type": "code",
   "execution_count": 2,
   "metadata": {},
   "outputs": [],
   "source": [
    "import numpy as np\n",
    "import pandas as pd\n",
    "from src.data_preprocessing.dataframe_manipulation import (\n",
    "    load_data, handle_nan_values, rename_columns,\n",
    "    )\n",
    "\n",
    "from src.data_preprocessing.dataframe_preprocessing import (\n",
    "    encoding_the_columns, split_data, scale_data, \n",
    "    )\n",
    "\n",
    "from src.models.preprocessing import (\n",
    "    logistic_regression, \n",
    "    )"
   ]
  },
  {
   "cell_type": "markdown",
   "metadata": {},
   "source": [
    "Load the data and preprecess it"
   ]
  },
  {
   "cell_type": "code",
   "execution_count": 3,
   "metadata": {},
   "outputs": [
    {
     "name": "stderr",
     "output_type": "stream",
     "text": [
      "c:\\Users\\Mykelos\\OneDrive\\Desktop\\Projects\\CreditCardApproval\\src\\data_preprocessing\\dataframe_manipulation.py:35: FutureWarning: Dropping of nuisance columns in DataFrame reductions (with 'numeric_only=None') is deprecated; in a future version this will raise TypeError.  Select only valid columns before calling the reduction.\n",
      "  dataframe.fillna(dataframe.mean(), inplace=True)\n"
     ]
    }
   ],
   "source": [
    "data = handle_nan_values(rename_columns(load_data()))"
   ]
  },
  {
   "cell_type": "markdown",
   "metadata": {},
   "source": [
    "Encode the data"
   ]
  },
  {
   "cell_type": "code",
   "execution_count": 4,
   "metadata": {},
   "outputs": [],
   "source": [
    "data = encoding_the_columns(data)"
   ]
  },
  {
   "cell_type": "code",
   "execution_count": 5,
   "metadata": {},
   "outputs": [],
   "source": [
    "(\n",
    "X_train,\n",
    "X_test,\n",
    "y_train,\n",
    "y_test\n",
    ")=split_data(data)"
   ]
  },
  {
   "cell_type": "code",
   "execution_count": 6,
   "metadata": {},
   "outputs": [],
   "source": [
    "(\n",
    "rescaledX_train, \n",
    "rescaledX_test\n",
    ")=scale_data(X_train, X_test)\n",
    "\n"
   ]
  },
  {
   "cell_type": "code",
   "execution_count": 7,
   "metadata": {},
   "outputs": [
    {
     "name": "stdout",
     "output_type": "stream",
     "text": [
      "Accuracy of logistic regression classifier:  0.8744588744588745\n"
     ]
    }
   ],
   "source": [
    "(\n",
    "logreg_score, \n",
    "conf_matrix\n",
    ")=logistic_regression(rescaledX_train, y_train)"
   ]
  },
  {
   "cell_type": "code",
   "execution_count": 8,
   "metadata": {},
   "outputs": [
    {
     "data": {
      "text/plain": [
       "array([[185,  19],\n",
       "       [ 39, 219]], dtype=int64)"
      ]
     },
     "execution_count": 8,
     "metadata": {},
     "output_type": "execute_result"
    }
   ],
   "source": [
    "conf_matrix"
   ]
  },
  {
   "cell_type": "code",
   "execution_count": null,
   "metadata": {},
   "outputs": [],
   "source": []
  }
 ],
 "metadata": {
  "kernelspec": {
   "display_name": "Python 3.10.6 64-bit (windows store)",
   "language": "python",
   "name": "python3"
  },
  "language_info": {
   "codemirror_mode": {
    "name": "ipython",
    "version": 3
   },
   "file_extension": ".py",
   "mimetype": "text/x-python",
   "name": "python",
   "nbconvert_exporter": "python",
   "pygments_lexer": "ipython3",
   "version": "3.10.6"
  },
  "orig_nbformat": 4,
  "vscode": {
   "interpreter": {
    "hash": "b359650d341a415086faa822ce7626ce09fbb075daa135bd072cf209e05548d3"
   }
  }
 },
 "nbformat": 4,
 "nbformat_minor": 2
}
