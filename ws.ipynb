{
 "cells": [
  {
   "cell_type": "code",
   "execution_count": 1,
   "metadata": {},
   "outputs": [],
   "source": [
    "import numpy as np\n",
    "import pandas as pd\n",
    "from src.data_preprocessing.dataframe_manipulation import (\n",
    "    load_data, handle_nan_values, rename_columns,\n",
    "    )\n",
    "\n",
    "from src.data_preprocessing.dataframe_preprocessing import (\n",
    "    encoding_the_columns, split_data, scale_data, \n",
    "    )"
   ]
  },
  {
   "cell_type": "markdown",
   "metadata": {},
   "source": [
    "Load the data and preprecess it"
   ]
  },
  {
   "cell_type": "code",
   "execution_count": 2,
   "metadata": {},
   "outputs": [
    {
     "name": "stderr",
     "output_type": "stream",
     "text": [
      "c:\\Users\\Mykelos\\OneDrive\\Desktop\\Projects\\CreditCardApproval\\src\\data_preprocessing\\dataframe_manipulation.py:35: FutureWarning: Dropping of nuisance columns in DataFrame reductions (with 'numeric_only=None') is deprecated; in a future version this will raise TypeError.  Select only valid columns before calling the reduction.\n",
      "  dataframe.fillna(dataframe.mean(), inplace=True)\n"
     ]
    }
   ],
   "source": [
    "data = handle_nan_values(rename_columns(load_data()))"
   ]
  },
  {
   "cell_type": "markdown",
   "metadata": {},
   "source": [
    "Encode the data"
   ]
  },
  {
   "cell_type": "code",
   "execution_count": 3,
   "metadata": {},
   "outputs": [],
   "source": [
    "data = encoding_the_columns(data)"
   ]
  },
  {
   "cell_type": "code",
   "execution_count": 6,
   "metadata": {},
   "outputs": [],
   "source": [
    "(\n",
    "X_train,\n",
    "X_test,\n",
    "y_train,\n",
    "y_test\n",
    ")=split_data(data)"
   ]
  },
  {
   "cell_type": "code",
   "execution_count": 7,
   "metadata": {},
   "outputs": [],
   "source": [
    "# Import MinMaxScaler\n",
    "from sklearn.preprocessing import MinMaxScaler"
   ]
  },
  {
   "cell_type": "code",
   "execution_count": null,
   "metadata": {},
   "outputs": [],
   "source": [
    "\n"
   ]
  },
  {
   "cell_type": "code",
   "execution_count": 8,
   "metadata": {},
   "outputs": [
    {
     "ename": "NameError",
     "evalue": "name 'scale_data' is not defined",
     "output_type": "error",
     "traceback": [
      "\u001b[1;31m---------------------------------------------------------------------------\u001b[0m",
      "\u001b[1;31mNameError\u001b[0m                                 Traceback (most recent call last)",
      "\u001b[1;32mc:\\Users\\Mykelos\\OneDrive\\Desktop\\Projects\\CreditCardApproval\\ws.ipynb Cell 9\u001b[0m in \u001b[0;36m<cell line: 4>\u001b[1;34m()\u001b[0m\n\u001b[0;32m      <a href='vscode-notebook-cell:/c%3A/Users/Mykelos/OneDrive/Desktop/Projects/CreditCardApproval/ws.ipynb#X34sZmlsZQ%3D%3D?line=0'>1</a>\u001b[0m (\n\u001b[0;32m      <a href='vscode-notebook-cell:/c%3A/Users/Mykelos/OneDrive/Desktop/Projects/CreditCardApproval/ws.ipynb#X34sZmlsZQ%3D%3D?line=1'>2</a>\u001b[0m rescaledX_train, \n\u001b[0;32m      <a href='vscode-notebook-cell:/c%3A/Users/Mykelos/OneDrive/Desktop/Projects/CreditCardApproval/ws.ipynb#X34sZmlsZQ%3D%3D?line=2'>3</a>\u001b[0m rescaledX_test\n\u001b[1;32m----> <a href='vscode-notebook-cell:/c%3A/Users/Mykelos/OneDrive/Desktop/Projects/CreditCardApproval/ws.ipynb#X34sZmlsZQ%3D%3D?line=3'>4</a>\u001b[0m )\u001b[39m=\u001b[39mscale_data(X_train, X_test)\n",
      "\u001b[1;31mNameError\u001b[0m: name 'scale_data' is not defined"
     ]
    }
   ],
   "source": [
    "(\n",
    "rescaledX_train, \n",
    "rescaledX_test\n",
    ")=scale_data(X_train, X_test)\n",
    "\n"
   ]
  },
  {
   "cell_type": "code",
   "execution_count": null,
   "metadata": {},
   "outputs": [],
   "source": []
  },
  {
   "cell_type": "code",
   "execution_count": null,
   "metadata": {},
   "outputs": [],
   "source": [
    "\n",
    "\n",
    "\n",
    "\n",
    "\n",
    "\n",
    "# Segregate features and labels into separate variables\n",
    "\n",
    "\n"
   ]
  }
 ],
 "metadata": {
  "kernelspec": {
   "display_name": "Python 3.10.6 64-bit (windows store)",
   "language": "python",
   "name": "python3"
  },
  "language_info": {
   "codemirror_mode": {
    "name": "ipython",
    "version": 3
   },
   "file_extension": ".py",
   "mimetype": "text/x-python",
   "name": "python",
   "nbconvert_exporter": "python",
   "pygments_lexer": "ipython3",
   "version": "3.10.6"
  },
  "orig_nbformat": 4,
  "vscode": {
   "interpreter": {
    "hash": "b359650d341a415086faa822ce7626ce09fbb075daa135bd072cf209e05548d3"
   }
  }
 },
 "nbformat": 4,
 "nbformat_minor": 2
}
